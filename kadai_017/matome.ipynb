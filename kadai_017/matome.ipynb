{
  "nbformat": 4,
  "nbformat_minor": 0,
  "metadata": {
    "colab": {
      "provenance": []
    },
    "kernelspec": {
      "name": "python3",
      "display_name": "Python 3"
    },
    "language_info": {
      "name": "python"
    }
  },
  "cells": [
    {
      "cell_type": "code",
      "execution_count": 30,
      "metadata": {
        "colab": {
          "base_uri": "https://localhost:8080/"
        },
        "id": "qOvoHiwq0IPS",
        "outputId": "5a5737c5-8203-4373-fe14-1f138796bb8b"
      },
      "outputs": [
        {
          "output_type": "stream",
          "name": "stdout",
          "text": [
            "侍　太郎は大人です。\n",
            "侍　一郎は大人です。\n",
            "侍　二郎は大人です。\n",
            "侍　三郎は大人ではありません。\n"
          ]
        }
      ],
      "source": [
        "person = {\"侍　太郎\":36,\"侍　一郎\":30,\"侍　二郎\":20,\"侍　三郎\":15}\n",
        "class Human:\n",
        "  def __init__(self,name:str, age:int):\n",
        "    self.name = name\n",
        "    self.age = age\n",
        "\n",
        "  def check_adult(self):\n",
        "      if int(self.age) >= 20:\n",
        "        print(f\"{self.name}は大人です。\")\n",
        "      else:\n",
        "        print(f\"{self.name}は大人ではありません。\")\n",
        "\n",
        "for key, value in person.items():\n",
        "  human = Human(key,value)\n",
        "  human.check_adult()"
      ]
    }
  ]
}