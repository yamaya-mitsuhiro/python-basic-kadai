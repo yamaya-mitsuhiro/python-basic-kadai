{
  "nbformat": 4,
  "nbformat_minor": 0,
  "metadata": {
    "colab": {
      "provenance": []
    },
    "kernelspec": {
      "name": "python3",
      "display_name": "Python 3"
    },
    "language_info": {
      "name": "python"
    }
  },
  "cells": [
    {
      "cell_type": "code",
      "execution_count": 6,
      "metadata": {
        "colab": {
          "base_uri": "https://localhost:8080/"
        },
        "id": "qOvoHiwq0IPS",
        "outputId": "fcbdc5c7-e450-4522-edb3-0466e8bb6607"
      },
      "outputs": [
        {
          "output_type": "stream",
          "name": "stdout",
          "text": [
            "adult\n"
          ]
        }
      ],
      "source": [
        "from os import name\n",
        "class Human:\n",
        "  def __init__(self,name:str, age:int):\n",
        "    self.name = name\n",
        "    self.age = age\n",
        "\n",
        "  def check_adult(self):\n",
        "    if self.age >= 20:\n",
        "      print(\"adult\")\n",
        "    else:\n",
        "      print(\"no_adult\")\n",
        "\n",
        "human = Human(\"侍　太郎\",36)\n",
        "human.check_adult()"
      ]
    }
  ]
}