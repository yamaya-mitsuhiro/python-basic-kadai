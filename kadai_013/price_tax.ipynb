{
  "nbformat": 4,
  "nbformat_minor": 0,
  "metadata": {
    "colab": {
      "provenance": []
    },
    "kernelspec": {
      "name": "python3",
      "display_name": "Python 3"
    },
    "language_info": {
      "name": "python"
    }
  },
  "cells": [
    {
      "cell_type": "code",
      "execution_count": 19,
      "metadata": {
        "colab": {
          "base_uri": "https://localhost:8080/"
        },
        "id": "oOxLPtxVQDtU",
        "outputId": "6d832458-b727-4a98-a09f-3c4c5acbdf38"
      },
      "outputs": [
        {
          "output_type": "execute_result",
          "data": {
            "text/plain": [
              "121.00000000000001"
            ]
          },
          "metadata": {},
          "execution_count": 19
        }
      ],
      "source": [
        "def multisummary(price,tax) -> int:\n",
        "  sum = price * (1 +  (tax / 100))\n",
        "  return sum\n",
        "\n",
        "multisummary(110,10)"
      ]
    }
  ]
}