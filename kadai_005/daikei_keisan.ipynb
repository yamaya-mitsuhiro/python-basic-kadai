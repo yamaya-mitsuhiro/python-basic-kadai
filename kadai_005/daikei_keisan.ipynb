{
  "nbformat": 4,
  "nbformat_minor": 0,
  "metadata": {
    "colab": {
      "provenance": []
    },
    "kernelspec": {
      "name": "python3",
      "display_name": "Python 3"
    },
    "language_info": {
      "name": "python"
    }
  },
  "cells": [
    {
      "cell_type": "code",
      "source": [
        "joutei = 10\n",
        "katei = 20\n",
        "takasa = 5\n",
        "menseki =  (joutei + katei) * takasa / 2\n",
        "print(str(menseki) +\"cm²\")"
      ],
      "metadata": {
        "colab": {
          "base_uri": "https://localhost:8080/"
        },
        "id": "nvBLvngllWcV",
        "outputId": "7b5ce6c3-f107-488d-ec33-527ecd6821e4"
      },
      "execution_count": 19,
      "outputs": [
        {
          "output_type": "stream",
          "name": "stdout",
          "text": [
            "75.0cm²\n"
          ]
        }
      ]
    }
  ]
}