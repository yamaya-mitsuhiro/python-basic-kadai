{
  "nbformat": 4,
  "nbformat_minor": 0,
  "metadata": {
    "colab": {
      "provenance": []
    },
    "kernelspec": {
      "name": "python3",
      "display_name": "Python 3"
    },
    "language_info": {
      "name": "python"
    }
  },
  "cells": [
    {
      "cell_type": "code",
      "execution_count": 14,
      "metadata": {
        "colab": {
          "base_uri": "https://localhost:8080/"
        },
        "id": "IdJmWWcagFRP",
        "outputId": "6bd80336-ae9b-404e-c870-ed83fcc4d693"
      },
      "outputs": [
        {
          "output_type": "stream",
          "name": "stdout",
          "text": [
            "侍　太郎\n",
            "36\n"
          ]
        }
      ],
      "source": [
        "class Human:\n",
        "  def __init__(self, name:str, age:int):\n",
        "    self.name = name\n",
        "    self.age = age\n",
        "\n",
        "human = Human(\"侍　太郎\",36)\n",
        "print(human.name)\n",
        "print(human.age)"
      ]
    }
  ]
}