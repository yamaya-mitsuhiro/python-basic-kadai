{
  "nbformat": 4,
  "nbformat_minor": 0,
  "metadata": {
    "colab": {
      "provenance": []
    },
    "kernelspec": {
      "name": "python3",
      "display_name": "Python 3"
    },
    "language_info": {
      "name": "python"
    }
  },
  "cells": [
    {
      "cell_type": "code",
      "execution_count": 15,
      "metadata": {
        "colab": {
          "base_uri": "https://localhost:8080/"
        },
        "id": "IdJmWWcagFRP",
        "outputId": "a83910ee-af72-4fdb-b884-3d3123e2ebaa"
      },
      "outputs": [
        {
          "output_type": "stream",
          "name": "stdout",
          "text": [
            "侍　太郎\n",
            "36\n"
          ]
        }
      ],
      "source": [
        "class Human:\n",
        "  def __init__(self):\n",
        "    self.name = name\n",
        "    self.age = age\n",
        "  def __init__(self, name:str, age:int):\n",
        "    print(human.name)\n",
        "    print(human.age)\n",
        "\n",
        "human = Human(\"侍　太郎\",36)"
      ]
    }
  ]
}